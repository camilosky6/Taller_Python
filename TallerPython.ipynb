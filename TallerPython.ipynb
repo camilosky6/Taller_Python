{
 "cells": [
  {
   "cell_type": "code",
   "execution_count": 120,
   "metadata": {},
   "outputs": [],
   "source": [
    "import pandas as pd\n",
    "import psycopg2\n",
    "from sqlalchemy import create_engine\n",
    "import requests\n",
    "import spotipy\n",
    "from datetime import date\n",
    "from spotipy.oauth2 import SpotifyClientCredentials"
   ]
  },
  {
   "cell_type": "code",
   "execution_count": 115,
   "metadata": {},
   "outputs": [],
   "source": [
    "CLIENT_ID = 'afecd61eb20d4d4ea519f7a55046effe'\n",
    "CLIENT_SECRET = '4b5ce10bafa04a3f88456aee36bad454'\n",
    "AUTH_URL = 'https://accounts.spotify.com/api/token'"
   ]
  },
  {
   "cell_type": "code",
   "execution_count": 131,
   "metadata": {},
   "outputs": [],
   "source": [
    "# POST\n",
    "auth_response = requests.post(AUTH_URL, {\n",
    "    'grant_type': 'client_credentials',\n",
    "    'client_id': CLIENT_ID,\n",
    "    'client_secret': CLIENT_SECRET,\n",
    "})\n",
    "\n",
    "# convert the response to JSON\n",
    "auth_response_data = auth_response.json()\n",
    "\n",
    "# save the access token\n",
    "access_token = auth_response_data['access_token']\n",
    "\n",
    "#Header con Authorization\n",
    "headers = {\n",
    "    'Authorization': 'Bearer {token}'.format(token=access_token)\n",
    "}\n",
    "\n",
    "# base URL of all Spotify API endpoints\n",
    "#'https://api.spotify.com/v1/'\n",
    "BASE_URL = 'https://api.spotify.com/v1/'\n",
    "\n",
    "# Track ID from the URI\n",
    "track_id = '6y0igZArWVi6Iz0rj35c1Y'\n",
    "\n",
    "#Led Zeppelin\n",
    "artist1 = '36QJpDe2go2KgaRleHCDTp'\n",
    "#Metallica\n",
    "artist2 = '2ye2Wgw4gimLv2eAKyk1NB'\n",
    "#Black Sabbath\n",
    "artist3 = '5M52tdBnJaKSvOpJGz8mfZ'\n",
    "#Michael Jackson\n",
    "artist4 = '3fMbdgg4jU18AjLCKBhRSm'\n",
    "#Queen\n",
    "artist5 = '1dfeR4HaWDbWqFHLkxsg1d'\n",
    "\n",
    "#Lista de Artistas\n",
    "artist_id_list = [artist1, artist2 , artist3 , artist4, artist5]\n",
    "    \n",
    "artist_id = '36QJpDe2go2KgaRleHCDTp' #Led Zeppelin\n",
    "\n",
    "#Lista donde guardaremos la informacion desde spotify para luego pasarla al DB\n",
    "artistas = []\n",
    "tracks = []\n",
    "\n",
    "sql = \"INSERT \\n\""
   ]
  },
  {
   "cell_type": "code",
   "execution_count": 136,
   "metadata": {},
   "outputs": [
    {
     "ename": "SyntaxError",
     "evalue": "invalid character in identifier (<ipython-input-136-110500063137>, line 27)",
     "output_type": "error",
     "traceback": [
      "\u001b[1;36m  File \u001b[1;32m\"<ipython-input-136-110500063137>\"\u001b[1;36m, line \u001b[1;32m27\u001b[0m\n\u001b[1;33m    sql ´+= \"hola\"\u001b[0m\n\u001b[1;37m        ^\u001b[0m\n\u001b[1;31mSyntaxError\u001b[0m\u001b[1;31m:\u001b[0m invalid character in identifier\n"
     ]
    }
   ],
   "source": [
    "# pull all artists albums\n",
    "def getArtista(artist_id):\n",
    "    r = requests.get(BASE_URL + 'artists/' + artist_id,\n",
    "    headers=headers,\n",
    "    params={'include_groups': 'album', 'limit': 50})\n",
    "    return r.json()\n",
    "\n",
    "#Obtener todos tracks de un Artista\n",
    "def getTracks(artist_id):\n",
    "    r = requests.get(BASE_URL + 'artists/' + artist_id + '/top-tracks?country=SE',\n",
    "    headers=headers,\n",
    "    params={'include_groups': 'album', 'limit': 50})\n",
    "    return r.json()\n",
    "\n",
    "#Obtener una lista con los json de los artistas y Tracks\n",
    "def llenarListas(artist_id_list):\n",
    "    for artista in artist_id_list:\n",
    "        #Aniade un Artista a la Lista\n",
    "        aux = getArtista(artista)\n",
    "        artistas.append(aux)\n",
    "        #Aniade los Tracks de un Artista a la lista\n",
    "        aux = getTracks(artista)\n",
    "        tracks.append(aux)\n",
    "\n",
    "\n",
    "def datosArtista(lista, i):\n",
    "    sql ´+= \"hola\"\n",
    "    sql += lista[i]['id'] + \"\\n\" #id\n",
    "    sql += lista[i]['name'] + \"\\n\"#nombre\n",
    "    sql += lista[i]['popularity']+ \"\\n\" #popularidad\n",
    "    sql += lista[i]['type']+ \"\\n\" #tipo\n",
    "    sql += lista[i]['uri']+ \"\\n\" #uri\n",
    "    follow = lista[i][followers]+ \"\\n\"\n",
    "    sql += follow[0]['total']+ \"\\n\" #CantidadFollower\n",
    "    sql += date.now + \"\\n\" #Fecha Carga\n",
    "    sql += lista[i]['id']+ \"\\n\" #origen\n",
    "    "
   ]
  },
  {
   "cell_type": "code",
   "execution_count": 137,
   "metadata": {},
   "outputs": [
    {
     "name": "stdout",
     "output_type": "stream",
     "text": [
      "{'external_urls': {'spotify': 'https://open.spotify.com/artist/36QJpDe2go2KgaRleHCDTp'}, 'followers': {'href': None, 'total': 9708888}, 'genres': ['album rock', 'classic rock', 'hard rock', 'rock'], 'href': 'https://api.spotify.com/v1/artists/36QJpDe2go2KgaRleHCDTp', 'id': '36QJpDe2go2KgaRleHCDTp', 'images': [{'height': 600, 'url': 'https://i.scdn.co/image/207803ce008388d3427a685254f9de6a8f61dc2e', 'width': 600}, {'height': 200, 'url': 'https://i.scdn.co/image/b0248a44865493e6a03832aa89854ada16ff07a8', 'width': 200}, {'height': 64, 'url': 'https://i.scdn.co/image/16eb3cdae0d824b520ac17710e943a99d3ef6602', 'width': 64}], 'name': 'Led Zeppelin', 'popularity': 82, 'type': 'artist', 'uri': 'spotify:artist:36QJpDe2go2KgaRleHCDTp'}\n",
      "\n",
      "{'tracks': [{'album': {'album_type': 'album', 'artists': [{'external_urls': {'spotify': 'https://open.spotify.com/artist/36QJpDe2go2KgaRleHCDTp'}, 'href': 'https://api.spotify.com/v1/artists/36QJpDe2go2KgaRleHCDTp', 'id': '36QJpDe2go2KgaRleHCDTp', 'name': 'Led Zeppelin', 'type': 'artist', 'uri': 'spotify:artist:36QJpDe2go2KgaRleHCDTp'}], 'external_urls': {'spotify': 'https://open.spotify.com/album/44Ig8dzqOkvkGDzaUof9lK'}, 'href': 'https://api.spotify.com/v1/albums/44Ig8dzqOkvkGDzaUof9lK', 'id': '44Ig8dzqOkvkGDzaUof9lK', 'images': [{'height': 640, 'url': 'https://i.scdn.co/image/ab67616d0000b273c8a11e48c91a982d086afc69', 'width': 640}, {'height': 300, 'url': 'https://i.scdn.co/image/ab67616d00001e02c8a11e48c91a982d086afc69', 'width': 300}, {'height': 64, 'url': 'https://i.scdn.co/image/ab67616d00004851c8a11e48c91a982d086afc69', 'width': 64}], 'name': 'Led Zeppelin IV (Deluxe Edition)', 'release_date': '1971-11-08', 'release_date_precision': 'day', 'total_tracks': 16, 'type': 'album', 'uri': 'spotify:album:44Ig8dzqOkvkGDzaUof9lK'}, 'artists': [{'external_urls': {'spotify': 'https://open.spotify.com/artist/36QJpDe2go2KgaRleHCDTp'}, 'href': 'https://api.spotify.com/v1/artists/36QJpDe2go2KgaRleHCDTp', 'id': '36QJpDe2go2KgaRleHCDTp', 'name': 'Led Zeppelin', 'type': 'artist', 'uri': 'spotify:artist:36QJpDe2go2KgaRleHCDTp'}], 'disc_number': 1, 'duration_ms': 482830, 'explicit': False, 'external_ids': {'isrc': 'USAT21300959'}, 'external_urls': {'spotify': 'https://open.spotify.com/track/5CQ30WqJwcep0pYcV4AMNc'}, 'href': 'https://api.spotify.com/v1/tracks/5CQ30WqJwcep0pYcV4AMNc', 'id': '5CQ30WqJwcep0pYcV4AMNc', 'is_local': False, 'is_playable': True, 'name': 'Stairway to Heaven - Remaster', 'popularity': 78, 'preview_url': 'https://p.scdn.co/mp3-preview/8226164717312bc411f8635580562d67e191a754?cid=afecd61eb20d4d4ea519f7a55046effe', 'track_number': 4, 'type': 'track', 'uri': 'spotify:track:5CQ30WqJwcep0pYcV4AMNc'}, {'album': {'album_type': 'album', 'artists': [{'external_urls': {'spotify': 'https://open.spotify.com/artist/36QJpDe2go2KgaRleHCDTp'}, 'href': 'https://api.spotify.com/v1/artists/36QJpDe2go2KgaRleHCDTp', 'id': '36QJpDe2go2KgaRleHCDTp', 'name': 'Led Zeppelin', 'type': 'artist', 'uri': 'spotify:artist:36QJpDe2go2KgaRleHCDTp'}], 'external_urls': {'spotify': 'https://open.spotify.com/album/70lQYZtypdCALtFVlQAcvx'}, 'href': 'https://api.spotify.com/v1/albums/70lQYZtypdCALtFVlQAcvx', 'id': '70lQYZtypdCALtFVlQAcvx', 'images': [{'height': 640, 'url': 'https://i.scdn.co/image/ab67616d0000b273fc4f17340773c6c3579fea0d', 'width': 640}, {'height': 300, 'url': 'https://i.scdn.co/image/ab67616d00001e02fc4f17340773c6c3579fea0d', 'width': 300}, {'height': 64, 'url': 'https://i.scdn.co/image/ab67616d00004851fc4f17340773c6c3579fea0d', 'width': 64}], 'name': 'Led Zeppelin II (1994 Remaster)', 'release_date': '1969-10-22', 'release_date_precision': 'day', 'total_tracks': 9, 'type': 'album', 'uri': 'spotify:album:70lQYZtypdCALtFVlQAcvx'}, 'artists': [{'external_urls': {'spotify': 'https://open.spotify.com/artist/36QJpDe2go2KgaRleHCDTp'}, 'href': 'https://api.spotify.com/v1/artists/36QJpDe2go2KgaRleHCDTp', 'id': '36QJpDe2go2KgaRleHCDTp', 'name': 'Led Zeppelin', 'type': 'artist', 'uri': 'spotify:artist:36QJpDe2go2KgaRleHCDTp'}], 'disc_number': 1, 'duration_ms': 333893, 'explicit': False, 'external_ids': {'isrc': 'USAT29900471'}, 'external_urls': {'spotify': 'https://open.spotify.com/track/0hCB0YR03f6AmQaHbwWDe8'}, 'href': 'https://api.spotify.com/v1/tracks/0hCB0YR03f6AmQaHbwWDe8', 'id': '0hCB0YR03f6AmQaHbwWDe8', 'is_local': False, 'is_playable': True, 'name': 'Whole Lotta Love - 1990 Remaster', 'popularity': 77, 'preview_url': 'https://p.scdn.co/mp3-preview/ce11b19a4d2de9976d7626df0717d0073863909c?cid=afecd61eb20d4d4ea519f7a55046effe', 'track_number': 1, 'type': 'track', 'uri': 'spotify:track:0hCB0YR03f6AmQaHbwWDe8'}, {'album': {'album_type': 'album', 'artists': [{'external_urls': {'spotify': 'https://open.spotify.com/artist/36QJpDe2go2KgaRleHCDTp'}, 'href': 'https://api.spotify.com/v1/artists/36QJpDe2go2KgaRleHCDTp', 'id': '36QJpDe2go2KgaRleHCDTp', 'name': 'Led Zeppelin', 'type': 'artist', 'uri': 'spotify:artist:36QJpDe2go2KgaRleHCDTp'}], 'external_urls': {'spotify': 'https://open.spotify.com/album/6P5QHz4XtxOmS5EuiGIPut'}, 'href': 'https://api.spotify.com/v1/albums/6P5QHz4XtxOmS5EuiGIPut', 'id': '6P5QHz4XtxOmS5EuiGIPut', 'images': [{'height': 640, 'url': 'https://i.scdn.co/image/ab67616d0000b27390a50cfe99a4c19ff3cbfbdb', 'width': 640}, {'height': 300, 'url': 'https://i.scdn.co/image/ab67616d00001e0290a50cfe99a4c19ff3cbfbdb', 'width': 300}, {'height': 64, 'url': 'https://i.scdn.co/image/ab67616d0000485190a50cfe99a4c19ff3cbfbdb', 'width': 64}], 'name': 'Led Zeppelin III (Remaster)', 'release_date': '1970', 'release_date_precision': 'year', 'total_tracks': 10, 'type': 'album', 'uri': 'spotify:album:6P5QHz4XtxOmS5EuiGIPut'}, 'artists': [{'external_urls': {'spotify': 'https://open.spotify.com/artist/36QJpDe2go2KgaRleHCDTp'}, 'href': 'https://api.spotify.com/v1/artists/36QJpDe2go2KgaRleHCDTp', 'id': '36QJpDe2go2KgaRleHCDTp', 'name': 'Led Zeppelin', 'type': 'artist', 'uri': 'spotify:artist:36QJpDe2go2KgaRleHCDTp'}], 'disc_number': 1, 'duration_ms': 146250, 'explicit': False, 'external_ids': {'isrc': 'USAT21300934'}, 'external_urls': {'spotify': 'https://open.spotify.com/track/78lgmZwycJ3nzsdgmPPGNx'}, 'href': 'https://api.spotify.com/v1/tracks/78lgmZwycJ3nzsdgmPPGNx', 'id': '78lgmZwycJ3nzsdgmPPGNx', 'is_local': False, 'is_playable': True, 'name': 'Immigrant Song - Remaster', 'popularity': 76, 'preview_url': 'https://p.scdn.co/mp3-preview/8455599677a13017978dcd3f4b210937f0a16bcb?cid=afecd61eb20d4d4ea519f7a55046effe', 'track_number': 1, 'type': 'track', 'uri': 'spotify:track:78lgmZwycJ3nzsdgmPPGNx'}, {'album': {'album_type': 'album', 'artists': [{'external_urls': {'spotify': 'https://open.spotify.com/artist/36QJpDe2go2KgaRleHCDTp'}, 'href': 'https://api.spotify.com/v1/artists/36QJpDe2go2KgaRleHCDTp', 'id': '36QJpDe2go2KgaRleHCDTp', 'name': 'Led Zeppelin', 'type': 'artist', 'uri': 'spotify:artist:36QJpDe2go2KgaRleHCDTp'}], 'external_urls': {'spotify': 'https://open.spotify.com/album/44Ig8dzqOkvkGDzaUof9lK'}, 'href': 'https://api.spotify.com/v1/albums/44Ig8dzqOkvkGDzaUof9lK', 'id': '44Ig8dzqOkvkGDzaUof9lK', 'images': [{'height': 640, 'url': 'https://i.scdn.co/image/ab67616d0000b273c8a11e48c91a982d086afc69', 'width': 640}, {'height': 300, 'url': 'https://i.scdn.co/image/ab67616d00001e02c8a11e48c91a982d086afc69', 'width': 300}, {'height': 64, 'url': 'https://i.scdn.co/image/ab67616d00004851c8a11e48c91a982d086afc69', 'width': 64}], 'name': 'Led Zeppelin IV (Deluxe Edition)', 'release_date': '1971-11-08', 'release_date_precision': 'day', 'total_tracks': 16, 'type': 'album', 'uri': 'spotify:album:44Ig8dzqOkvkGDzaUof9lK'}, 'artists': [{'external_urls': {'spotify': 'https://open.spotify.com/artist/36QJpDe2go2KgaRleHCDTp'}, 'href': 'https://api.spotify.com/v1/artists/36QJpDe2go2KgaRleHCDTp', 'id': '36QJpDe2go2KgaRleHCDTp', 'name': 'Led Zeppelin', 'type': 'artist', 'uri': 'spotify:artist:36QJpDe2go2KgaRleHCDTp'}], 'disc_number': 1, 'duration_ms': 295386, 'explicit': False, 'external_ids': {'isrc': 'USAT21300956'}, 'external_urls': {'spotify': 'https://open.spotify.com/track/3qT4bUD1MaWpGrTwcvguhb'}, 'href': 'https://api.spotify.com/v1/tracks/3qT4bUD1MaWpGrTwcvguhb', 'id': '3qT4bUD1MaWpGrTwcvguhb', 'is_local': False, 'is_playable': True, 'name': 'Black Dog - Remaster', 'popularity': 72, 'preview_url': 'https://p.scdn.co/mp3-preview/9b76619fd9d563a48d38cc90ca00c3008327b52e?cid=afecd61eb20d4d4ea519f7a55046effe', 'track_number': 1, 'type': 'track', 'uri': 'spotify:track:3qT4bUD1MaWpGrTwcvguhb'}, {'album': {'album_type': 'album', 'artists': [{'external_urls': {'spotify': 'https://open.spotify.com/artist/36QJpDe2go2KgaRleHCDTp'}, 'href': 'https://api.spotify.com/v1/artists/36QJpDe2go2KgaRleHCDTp', 'id': '36QJpDe2go2KgaRleHCDTp', 'name': 'Led Zeppelin', 'type': 'artist', 'uri': 'spotify:artist:36QJpDe2go2KgaRleHCDTp'}], 'external_urls': {'spotify': 'https://open.spotify.com/album/70lQYZtypdCALtFVlQAcvx'}, 'href': 'https://api.spotify.com/v1/albums/70lQYZtypdCALtFVlQAcvx', 'id': '70lQYZtypdCALtFVlQAcvx', 'images': [{'height': 640, 'url': 'https://i.scdn.co/image/ab67616d0000b273fc4f17340773c6c3579fea0d', 'width': 640}, {'height': 300, 'url': 'https://i.scdn.co/image/ab67616d00001e02fc4f17340773c6c3579fea0d', 'width': 300}, {'height': 64, 'url': 'https://i.scdn.co/image/ab67616d00004851fc4f17340773c6c3579fea0d', 'width': 64}], 'name': 'Led Zeppelin II (1994 Remaster)', 'release_date': '1969-10-22', 'release_date_precision': 'day', 'total_tracks': 9, 'type': 'album', 'uri': 'spotify:album:70lQYZtypdCALtFVlQAcvx'}, 'artists': [{'external_urls': {'spotify': 'https://open.spotify.com/artist/36QJpDe2go2KgaRleHCDTp'}, 'href': 'https://api.spotify.com/v1/artists/36QJpDe2go2KgaRleHCDTp', 'id': '36QJpDe2go2KgaRleHCDTp', 'name': 'Led Zeppelin', 'type': 'artist', 'uri': 'spotify:artist:36QJpDe2go2KgaRleHCDTp'}], 'disc_number': 1, 'duration_ms': 263333, 'explicit': False, 'external_ids': {'isrc': 'USAT29900477'}, 'external_urls': {'spotify': 'https://open.spotify.com/track/3MODES4TNtygekLl146Dxd'}, 'href': 'https://api.spotify.com/v1/tracks/3MODES4TNtygekLl146Dxd', 'id': '3MODES4TNtygekLl146Dxd', 'is_local': False, 'is_playable': True, 'name': 'Ramble On - 1990 Remaster', 'popularity': 70, 'preview_url': 'https://p.scdn.co/mp3-preview/83383aceb01ea27b0bffdedfaebe55e29b33aca2?cid=afecd61eb20d4d4ea519f7a55046effe', 'track_number': 7, 'type': 'track', 'uri': 'spotify:track:3MODES4TNtygekLl146Dxd'}, {'album': {'album_type': 'album', 'artists': [{'external_urls': {'spotify': 'https://open.spotify.com/artist/36QJpDe2go2KgaRleHCDTp'}, 'href': 'https://api.spotify.com/v1/artists/36QJpDe2go2KgaRleHCDTp', 'id': '36QJpDe2go2KgaRleHCDTp', 'name': 'Led Zeppelin', 'type': 'artist', 'uri': 'spotify:artist:36QJpDe2go2KgaRleHCDTp'}], 'external_urls': {'spotify': 'https://open.spotify.com/album/1lZahjeu4AhPkg9JARZr5F'}, 'href': 'https://api.spotify.com/v1/albums/1lZahjeu4AhPkg9JARZr5F', 'id': '1lZahjeu4AhPkg9JARZr5F', 'images': [{'height': 640, 'url': 'https://i.scdn.co/image/ab67616d0000b2732abc2d86a442efb6cc631d0a', 'width': 640}, {'height': 300, 'url': 'https://i.scdn.co/image/ab67616d00001e022abc2d86a442efb6cc631d0a', 'width': 300}, {'height': 64, 'url': 'https://i.scdn.co/image/ab67616d000048512abc2d86a442efb6cc631d0a', 'width': 64}], 'name': 'Physical Graffiti (1994 Remaster)', 'release_date': '1975-02-24', 'release_date_precision': 'day', 'total_tracks': 15, 'type': 'album', 'uri': 'spotify:album:1lZahjeu4AhPkg9JARZr5F'}, 'artists': [{'external_urls': {'spotify': 'https://open.spotify.com/artist/36QJpDe2go2KgaRleHCDTp'}, 'href': 'https://api.spotify.com/v1/artists/36QJpDe2go2KgaRleHCDTp', 'id': '36QJpDe2go2KgaRleHCDTp', 'name': 'Led Zeppelin', 'type': 'artist', 'uri': 'spotify:artist:36QJpDe2go2KgaRleHCDTp'}], 'disc_number': 1, 'duration_ms': 508200, 'explicit': False, 'external_ids': {'isrc': 'USAT29900621'}, 'external_urls': {'spotify': 'https://open.spotify.com/track/2nVHqZbOGkKWzlcy1aMbE7'}, 'href': 'https://api.spotify.com/v1/tracks/2nVHqZbOGkKWzlcy1aMbE7', 'id': '2nVHqZbOGkKWzlcy1aMbE7', 'is_local': False, 'is_playable': True, 'name': 'Kashmir - 1990 Remaster', 'popularity': 69, 'preview_url': 'https://p.scdn.co/mp3-preview/13b2c47c98132f80a5ce12d8a4ceb192ba7a4345?cid=afecd61eb20d4d4ea519f7a55046effe', 'track_number': 6, 'type': 'track', 'uri': 'spotify:track:2nVHqZbOGkKWzlcy1aMbE7'}, {'album': {'album_type': 'album', 'artists': [{'external_urls': {'spotify': 'https://open.spotify.com/artist/36QJpDe2go2KgaRleHCDTp'}, 'href': 'https://api.spotify.com/v1/artists/36QJpDe2go2KgaRleHCDTp', 'id': '36QJpDe2go2KgaRleHCDTp', 'name': 'Led Zeppelin', 'type': 'artist', 'uri': 'spotify:artist:36QJpDe2go2KgaRleHCDTp'}], 'external_urls': {'spotify': 'https://open.spotify.com/album/3ycjBixZf7S3WpC5WZhhUK'}, 'href': 'https://api.spotify.com/v1/albums/3ycjBixZf7S3WpC5WZhhUK', 'id': '3ycjBixZf7S3WpC5WZhhUK', 'images': [{'height': 640, 'url': 'https://i.scdn.co/image/ab67616d0000b2736f2f499c1df1f210c9b34b32', 'width': 640}, {'height': 300, 'url': 'https://i.scdn.co/image/ab67616d00001e026f2f499c1df1f210c9b34b32', 'width': 300}, {'height': 64, 'url': 'https://i.scdn.co/image/ab67616d000048516f2f499c1df1f210c9b34b32', 'width': 64}], 'name': 'Led Zeppelin', 'release_date': '1969-01-12', 'release_date_precision': 'day', 'total_tracks': 9, 'type': 'album', 'uri': 'spotify:album:3ycjBixZf7S3WpC5WZhhUK'}, 'artists': [{'external_urls': {'spotify': 'https://open.spotify.com/artist/36QJpDe2go2KgaRleHCDTp'}, 'href': 'https://api.spotify.com/v1/artists/36QJpDe2go2KgaRleHCDTp', 'id': '36QJpDe2go2KgaRleHCDTp', 'name': 'Led Zeppelin', 'type': 'artist', 'uri': 'spotify:artist:36QJpDe2go2KgaRleHCDTp'}], 'disc_number': 1, 'duration_ms': 166266, 'explicit': False, 'external_ids': {'isrc': 'USAT29900534'}, 'external_urls': {'spotify': 'https://open.spotify.com/track/0QwZfbw26QeUoIy82Z2jYp'}, 'href': 'https://api.spotify.com/v1/tracks/0QwZfbw26QeUoIy82Z2jYp', 'id': '0QwZfbw26QeUoIy82Z2jYp', 'is_local': False, 'is_playable': True, 'name': 'Good Times Bad Times - 1993 Remaster', 'popularity': 69, 'preview_url': 'https://p.scdn.co/mp3-preview/c1f024eb57b569b926c8e68cab0a6056dc7d9654?cid=afecd61eb20d4d4ea519f7a55046effe', 'track_number': 1, 'type': 'track', 'uri': 'spotify:track:0QwZfbw26QeUoIy82Z2jYp'}, {'album': {'album_type': 'album', 'artists': [{'external_urls': {'spotify': 'https://open.spotify.com/artist/36QJpDe2go2KgaRleHCDTp'}, 'href': 'https://api.spotify.com/v1/artists/36QJpDe2go2KgaRleHCDTp', 'id': '36QJpDe2go2KgaRleHCDTp', 'name': 'Led Zeppelin', 'type': 'artist', 'uri': 'spotify:artist:36QJpDe2go2KgaRleHCDTp'}], 'external_urls': {'spotify': 'https://open.spotify.com/album/44Ig8dzqOkvkGDzaUof9lK'}, 'href': 'https://api.spotify.com/v1/albums/44Ig8dzqOkvkGDzaUof9lK', 'id': '44Ig8dzqOkvkGDzaUof9lK', 'images': [{'height': 640, 'url': 'https://i.scdn.co/image/ab67616d0000b273c8a11e48c91a982d086afc69', 'width': 640}, {'height': 300, 'url': 'https://i.scdn.co/image/ab67616d00001e02c8a11e48c91a982d086afc69', 'width': 300}, {'height': 64, 'url': 'https://i.scdn.co/image/ab67616d00004851c8a11e48c91a982d086afc69', 'width': 64}], 'name': 'Led Zeppelin IV (Deluxe Edition)', 'release_date': '1971-11-08', 'release_date_precision': 'day', 'total_tracks': 16, 'type': 'album', 'uri': 'spotify:album:44Ig8dzqOkvkGDzaUof9lK'}, 'artists': [{'external_urls': {'spotify': 'https://open.spotify.com/artist/36QJpDe2go2KgaRleHCDTp'}, 'href': 'https://api.spotify.com/v1/artists/36QJpDe2go2KgaRleHCDTp', 'id': '36QJpDe2go2KgaRleHCDTp', 'name': 'Led Zeppelin', 'type': 'artist', 'uri': 'spotify:artist:36QJpDe2go2KgaRleHCDTp'}], 'disc_number': 1, 'duration_ms': 212160, 'explicit': False, 'external_ids': {'isrc': 'USAT21300962'}, 'external_urls': {'spotify': 'https://open.spotify.com/track/70gbuMqwNBE2Y5rkQJE9By'}, 'href': 'https://api.spotify.com/v1/tracks/70gbuMqwNBE2Y5rkQJE9By', 'id': '70gbuMqwNBE2Y5rkQJE9By', 'is_local': False, 'is_playable': True, 'name': 'Going to California - Remaster', 'popularity': 67, 'preview_url': 'https://p.scdn.co/mp3-preview/4bdae56c6a9f7a8ec42b753cb7bea2c77ec68f1e?cid=afecd61eb20d4d4ea519f7a55046effe', 'track_number': 7, 'type': 'track', 'uri': 'spotify:track:70gbuMqwNBE2Y5rkQJE9By'}, {'album': {'album_type': 'album', 'artists': [{'external_urls': {'spotify': 'https://open.spotify.com/artist/36QJpDe2go2KgaRleHCDTp'}, 'href': 'https://api.spotify.com/v1/artists/36QJpDe2go2KgaRleHCDTp', 'id': '36QJpDe2go2KgaRleHCDTp', 'name': 'Led Zeppelin', 'type': 'artist', 'uri': 'spotify:artist:36QJpDe2go2KgaRleHCDTp'}], 'external_urls': {'spotify': 'https://open.spotify.com/album/44Ig8dzqOkvkGDzaUof9lK'}, 'href': 'https://api.spotify.com/v1/albums/44Ig8dzqOkvkGDzaUof9lK', 'id': '44Ig8dzqOkvkGDzaUof9lK', 'images': [{'height': 640, 'url': 'https://i.scdn.co/image/ab67616d0000b273c8a11e48c91a982d086afc69', 'width': 640}, {'height': 300, 'url': 'https://i.scdn.co/image/ab67616d00001e02c8a11e48c91a982d086afc69', 'width': 300}, {'height': 64, 'url': 'https://i.scdn.co/image/ab67616d00004851c8a11e48c91a982d086afc69', 'width': 64}], 'name': 'Led Zeppelin IV (Deluxe Edition)', 'release_date': '1971-11-08', 'release_date_precision': 'day', 'total_tracks': 16, 'type': 'album', 'uri': 'spotify:album:44Ig8dzqOkvkGDzaUof9lK'}, 'artists': [{'external_urls': {'spotify': 'https://open.spotify.com/artist/36QJpDe2go2KgaRleHCDTp'}, 'href': 'https://api.spotify.com/v1/artists/36QJpDe2go2KgaRleHCDTp', 'id': '36QJpDe2go2KgaRleHCDTp', 'name': 'Led Zeppelin', 'type': 'artist', 'uri': 'spotify:artist:36QJpDe2go2KgaRleHCDTp'}], 'disc_number': 1, 'duration_ms': 220560, 'explicit': False, 'external_ids': {'isrc': 'USAT21300957'}, 'external_urls': {'spotify': 'https://open.spotify.com/track/4PRGxHpCpF2yoOHYKQIEwD'}, 'href': 'https://api.spotify.com/v1/tracks/4PRGxHpCpF2yoOHYKQIEwD', 'id': '4PRGxHpCpF2yoOHYKQIEwD', 'is_local': False, 'is_playable': True, 'name': 'Rock and Roll - Remaster', 'popularity': 67, 'preview_url': 'https://p.scdn.co/mp3-preview/e7ea8a13f7caf6942c5447e9cd96aac2a076d85a?cid=afecd61eb20d4d4ea519f7a55046effe', 'track_number': 2, 'type': 'track', 'uri': 'spotify:track:4PRGxHpCpF2yoOHYKQIEwD'}, {'album': {'album_type': 'album', 'artists': [{'external_urls': {'spotify': 'https://open.spotify.com/artist/36QJpDe2go2KgaRleHCDTp'}, 'href': 'https://api.spotify.com/v1/artists/36QJpDe2go2KgaRleHCDTp', 'id': '36QJpDe2go2KgaRleHCDTp', 'name': 'Led Zeppelin', 'type': 'artist', 'uri': 'spotify:artist:36QJpDe2go2KgaRleHCDTp'}], 'external_urls': {'spotify': 'https://open.spotify.com/album/7gS8ozSkvPW3VBPLnXOZ7S'}, 'href': 'https://api.spotify.com/v1/albums/7gS8ozSkvPW3VBPLnXOZ7S', 'id': '7gS8ozSkvPW3VBPLnXOZ7S', 'images': [{'height': 640, 'url': 'https://i.scdn.co/image/ab67616d0000b2731816adce1d49e35d3ce9a1d1', 'width': 640}, {'height': 300, 'url': 'https://i.scdn.co/image/ab67616d00001e021816adce1d49e35d3ce9a1d1', 'width': 300}, {'height': 64, 'url': 'https://i.scdn.co/image/ab67616d000048511816adce1d49e35d3ce9a1d1', 'width': 64}], 'name': 'Houses of the Holy (Deluxe Edition)', 'release_date': '1973-03-28', 'release_date_precision': 'day', 'total_tracks': 15, 'type': 'album', 'uri': 'spotify:album:7gS8ozSkvPW3VBPLnXOZ7S'}, 'artists': [{'external_urls': {'spotify': 'https://open.spotify.com/artist/36QJpDe2go2KgaRleHCDTp'}, 'href': 'https://api.spotify.com/v1/artists/36QJpDe2go2KgaRleHCDTp', 'id': '36QJpDe2go2KgaRleHCDTp', 'name': 'Led Zeppelin', 'type': 'artist', 'uri': 'spotify:artist:36QJpDe2go2KgaRleHCDTp'}], 'disc_number': 1, 'duration_ms': 262748, 'explicit': False, 'external_ids': {'isrc': 'USAT21300895'}, 'external_urls': {'spotify': 'https://open.spotify.com/track/4ItljeeAXtHsnsnnQojaO2'}, 'href': 'https://api.spotify.com/v1/tracks/4ItljeeAXtHsnsnnQojaO2', 'id': '4ItljeeAXtHsnsnnQojaO2', 'is_local': False, 'is_playable': True, 'name': \"D'yer Mak'er - Remaster\", 'popularity': 64, 'preview_url': 'https://p.scdn.co/mp3-preview/863a26744fa4389f1dc61557133df3453be82d7b?cid=afecd61eb20d4d4ea519f7a55046effe', 'track_number': 6, 'type': 'track', 'uri': 'spotify:track:4ItljeeAXtHsnsnnQojaO2'}]}\n"
     ]
    },
    {
     "name": "stdout",
     "output_type": "stream",
     "text": [
      "5\n",
      "82\n",
      "36QJpDe2go2KgaRleHCDTp\n"
     ]
    },
    {
     "ename": "UnboundLocalError",
     "evalue": "local variable 'sql' referenced before assignment",
     "output_type": "error",
     "traceback": [
      "\u001b[1;31m---------------------------------------------------------------------------\u001b[0m",
      "\u001b[1;31mUnboundLocalError\u001b[0m                         Traceback (most recent call last)",
      "\u001b[1;32m<ipython-input-137-852fbdfd5b98>\u001b[0m in \u001b[0;36m<module>\u001b[1;34m\u001b[0m\n\u001b[0;32m     15\u001b[0m \u001b[0mprint\u001b[0m\u001b[1;33m(\u001b[0m\u001b[0martistas\u001b[0m\u001b[1;33m[\u001b[0m\u001b[1;36m0\u001b[0m\u001b[1;33m]\u001b[0m\u001b[1;33m[\u001b[0m\u001b[1;34m'popularity'\u001b[0m\u001b[1;33m]\u001b[0m\u001b[1;33m)\u001b[0m\u001b[1;33m\u001b[0m\u001b[1;33m\u001b[0m\u001b[0m\n\u001b[0;32m     16\u001b[0m \u001b[1;33m\u001b[0m\u001b[0m\n\u001b[1;32m---> 17\u001b[1;33m \u001b[0mdatosArtista\u001b[0m\u001b[1;33m(\u001b[0m\u001b[0martistas\u001b[0m\u001b[1;33m,\u001b[0m\u001b[1;36m0\u001b[0m\u001b[1;33m)\u001b[0m\u001b[1;33m\u001b[0m\u001b[1;33m\u001b[0m\u001b[0m\n\u001b[0m\u001b[0;32m     18\u001b[0m \u001b[0mprint\u001b[0m\u001b[1;33m(\u001b[0m\u001b[0msql\u001b[0m\u001b[1;33m)\u001b[0m\u001b[1;33m\u001b[0m\u001b[1;33m\u001b[0m\u001b[0m\n",
      "\u001b[1;32m<ipython-input-132-e208fb6acaaa>\u001b[0m in \u001b[0;36mdatosArtista\u001b[1;34m(lista, i)\u001b[0m\n\u001b[0;32m     27\u001b[0m \u001b[1;33m\u001b[0m\u001b[0m\n\u001b[0;32m     28\u001b[0m     \u001b[0mprint\u001b[0m\u001b[1;33m(\u001b[0m\u001b[0mlista\u001b[0m\u001b[1;33m[\u001b[0m\u001b[0mi\u001b[0m\u001b[1;33m]\u001b[0m\u001b[1;33m[\u001b[0m\u001b[1;34m'id'\u001b[0m\u001b[1;33m]\u001b[0m\u001b[1;33m)\u001b[0m\u001b[1;33m\u001b[0m\u001b[1;33m\u001b[0m\u001b[0m\n\u001b[1;32m---> 29\u001b[1;33m     \u001b[0msql\u001b[0m \u001b[1;33m+=\u001b[0m \u001b[0mlista\u001b[0m\u001b[1;33m[\u001b[0m\u001b[0mi\u001b[0m\u001b[1;33m]\u001b[0m\u001b[1;33m[\u001b[0m\u001b[1;34m'id'\u001b[0m\u001b[1;33m]\u001b[0m \u001b[1;33m+\u001b[0m \u001b[1;34m\"\\n\"\u001b[0m \u001b[1;31m#id\u001b[0m\u001b[1;33m\u001b[0m\u001b[1;33m\u001b[0m\u001b[0m\n\u001b[0m\u001b[0;32m     30\u001b[0m     \u001b[0msql\u001b[0m \u001b[1;33m+=\u001b[0m \u001b[0mlista\u001b[0m\u001b[1;33m[\u001b[0m\u001b[0mi\u001b[0m\u001b[1;33m]\u001b[0m\u001b[1;33m[\u001b[0m\u001b[1;34m'name'\u001b[0m\u001b[1;33m]\u001b[0m \u001b[1;33m+\u001b[0m \u001b[1;34m\"\\n\"\u001b[0m\u001b[1;31m#nombre\u001b[0m\u001b[1;33m\u001b[0m\u001b[1;33m\u001b[0m\u001b[0m\n\u001b[0;32m     31\u001b[0m     \u001b[0msql\u001b[0m \u001b[1;33m+=\u001b[0m \u001b[0mlista\u001b[0m\u001b[1;33m[\u001b[0m\u001b[0mi\u001b[0m\u001b[1;33m]\u001b[0m\u001b[1;33m[\u001b[0m\u001b[1;34m'popularity'\u001b[0m\u001b[1;33m]\u001b[0m\u001b[1;33m+\u001b[0m \u001b[1;34m\"\\n\"\u001b[0m \u001b[1;31m#popularidad\u001b[0m\u001b[1;33m\u001b[0m\u001b[1;33m\u001b[0m\u001b[0m\n",
      "\u001b[1;31mUnboundLocalError\u001b[0m: local variable 'sql' referenced before assignment"
     ]
    }
   ],
   "source": [
    "#d = r.json()\n",
    "d = getArtista(artist_id)\n",
    "print(d)\n",
    "\n",
    "print()\n",
    "k = getTracks(artist_id)\n",
    "print(k)\n",
    "\n",
    "artistas.clear()\n",
    "tracks.clear()\n",
    "llenarListas(artist_id_list)\n",
    "\n",
    "#pd.DataFrame()\n",
    "print(len(tracks))\n",
    "print(artistas[0]['popularity'])\n",
    "\n",
    "datosArtista(artistas,0)\n",
    "print(sql)"
   ]
  },
  {
   "cell_type": "code",
   "execution_count": 119,
   "metadata": {},
   "outputs": [
    {
     "ename": "OperationalError",
     "evalue": "FATAL:  la autentificación password falló para el usuario «postgres»\n",
     "output_type": "error",
     "traceback": [
      "\u001b[1;31m---------------------------------------------------------------------------\u001b[0m",
      "\u001b[1;31mOperationalError\u001b[0m                          Traceback (most recent call last)",
      "\u001b[1;32m<ipython-input-119-744a809788de>\u001b[0m in \u001b[0;36m<module>\u001b[1;34m\u001b[0m\n\u001b[0;32m      1\u001b[0m \u001b[1;31m#Paso0: Crear Conexion\u001b[0m\u001b[1;33m\u001b[0m\u001b[1;33m\u001b[0m\u001b[1;33m\u001b[0m\u001b[0m\n\u001b[1;32m----> 2\u001b[1;33m conn = psycopg2.connect(\n\u001b[0m\u001b[0;32m      3\u001b[0m     \u001b[0mhost\u001b[0m \u001b[1;33m=\u001b[0m \u001b[1;34m\"localhost\"\u001b[0m\u001b[1;33m,\u001b[0m\u001b[1;33m\u001b[0m\u001b[1;33m\u001b[0m\u001b[0m\n\u001b[0;32m      4\u001b[0m     \u001b[0mdatabase\u001b[0m \u001b[1;33m=\u001b[0m \u001b[1;34m\"postgres\"\u001b[0m\u001b[1;33m,\u001b[0m\u001b[1;33m\u001b[0m\u001b[1;33m\u001b[0m\u001b[0m\n\u001b[0;32m      5\u001b[0m     \u001b[0muser\u001b[0m \u001b[1;33m=\u001b[0m \u001b[1;34m\"postgres\"\u001b[0m\u001b[1;33m,\u001b[0m\u001b[1;33m\u001b[0m\u001b[1;33m\u001b[0m\u001b[0m\n",
      "\u001b[1;32m~\\anaconda3\\envs\\pythonProject\\lib\\site-packages\\psycopg2\\__init__.py\u001b[0m in \u001b[0;36mconnect\u001b[1;34m(dsn, connection_factory, cursor_factory, **kwargs)\u001b[0m\n\u001b[0;32m    125\u001b[0m \u001b[1;33m\u001b[0m\u001b[0m\n\u001b[0;32m    126\u001b[0m     \u001b[0mdsn\u001b[0m \u001b[1;33m=\u001b[0m \u001b[0m_ext\u001b[0m\u001b[1;33m.\u001b[0m\u001b[0mmake_dsn\u001b[0m\u001b[1;33m(\u001b[0m\u001b[0mdsn\u001b[0m\u001b[1;33m,\u001b[0m \u001b[1;33m**\u001b[0m\u001b[0mkwargs\u001b[0m\u001b[1;33m)\u001b[0m\u001b[1;33m\u001b[0m\u001b[1;33m\u001b[0m\u001b[0m\n\u001b[1;32m--> 127\u001b[1;33m     \u001b[0mconn\u001b[0m \u001b[1;33m=\u001b[0m \u001b[0m_connect\u001b[0m\u001b[1;33m(\u001b[0m\u001b[0mdsn\u001b[0m\u001b[1;33m,\u001b[0m \u001b[0mconnection_factory\u001b[0m\u001b[1;33m=\u001b[0m\u001b[0mconnection_factory\u001b[0m\u001b[1;33m,\u001b[0m \u001b[1;33m**\u001b[0m\u001b[0mkwasync\u001b[0m\u001b[1;33m)\u001b[0m\u001b[1;33m\u001b[0m\u001b[1;33m\u001b[0m\u001b[0m\n\u001b[0m\u001b[0;32m    128\u001b[0m     \u001b[1;32mif\u001b[0m \u001b[0mcursor_factory\u001b[0m \u001b[1;32mis\u001b[0m \u001b[1;32mnot\u001b[0m \u001b[1;32mNone\u001b[0m\u001b[1;33m:\u001b[0m\u001b[1;33m\u001b[0m\u001b[1;33m\u001b[0m\u001b[0m\n\u001b[0;32m    129\u001b[0m         \u001b[0mconn\u001b[0m\u001b[1;33m.\u001b[0m\u001b[0mcursor_factory\u001b[0m \u001b[1;33m=\u001b[0m \u001b[0mcursor_factory\u001b[0m\u001b[1;33m\u001b[0m\u001b[1;33m\u001b[0m\u001b[0m\n",
      "\u001b[1;31mOperationalError\u001b[0m: FATAL:  la autentificación password falló para el usuario «postgres»\n"
     ]
    }
   ],
   "source": [
    "#Paso0: Crear Conexion\n",
    "conn = psycopg2.connect(\n",
    "    host = \"localhost\",\n",
    "    database = \"postgres\",\n",
    "    user = \"postgres\",\n",
    "    password = \"123\"\n",
    "        )\n",
    "\n",
    "    \n",
    "#Paso1: Crear Cursor\n",
    "cursor = conn.cursor()\n",
    "    \n",
    "# cursor.execute(\"\") #nombre de la tabla para reemplazar\n",
    "    \n",
    "#Cerrar Cursor\n",
    "cursor.close()\n",
    "#Paso Final: Cerrar Conexion\n",
    "conn.close()"
   ]
  },
  {
   "cell_type": "code",
   "execution_count": null,
   "metadata": {},
   "outputs": [],
   "source": []
  },
  {
   "cell_type": "code",
   "execution_count": null,
   "metadata": {},
   "outputs": [],
   "source": []
  }
 ],
 "metadata": {
  "kernelspec": {
   "display_name": "Python 3",
   "language": "python",
   "name": "python3"
  },
  "language_info": {
   "codemirror_mode": {
    "name": "ipython",
    "version": 3
   },
   "file_extension": ".py",
   "mimetype": "text/x-python",
   "name": "python",
   "nbconvert_exporter": "python",
   "pygments_lexer": "ipython3",
   "version": "3.8.5"
  }
 },
 "nbformat": 4,
 "nbformat_minor": 4
}
